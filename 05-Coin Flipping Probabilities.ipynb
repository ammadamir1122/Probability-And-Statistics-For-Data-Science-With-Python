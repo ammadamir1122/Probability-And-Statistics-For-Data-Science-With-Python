{
 "cells": [
  {
   "cell_type": "code",
   "execution_count": 1,
   "id": "0dac0583-720c-483e-8cc1-ec2f65fae98a",
   "metadata": {},
   "outputs": [],
   "source": [
    "import matplotlib\n",
    "import matplotlib.pyplot as plt\n",
    "%matplotlib inline\n",
    "import numpy as np\n",
    "import seaborn as sns\n",
    "sns.set(color_codes = True)\n",
    "sns.set_style(\"white\")"
   ]
  },
  {
   "cell_type": "code",
   "execution_count": 20,
   "id": "b9d9fdd0-9ae2-474a-81ff-badb66baf936",
   "metadata": {},
   "outputs": [
    {
     "data": {
      "text/plain": [
       "0.3305585653224784"
      ]
     },
     "execution_count": 20,
     "metadata": {},
     "output_type": "execute_result"
    }
   ],
   "source": [
    "np.random.uniform(low = 0.0, high = 1.0)"
   ]
  },
  {
   "cell_type": "code",
   "execution_count": 21,
   "id": "af49dc38-72f6-4136-a723-e22279f81a4a",
   "metadata": {},
   "outputs": [],
   "source": [
    "#genrate a Flip\n",
    "def flip(num = 1):\n",
    "    flips = []\n",
    "    \n",
    "    for i in range(num):\n",
    "        num = np.random.uniform(low = 0.0, high = 1.0)\n",
    "        if num > 0.5:\n",
    "            flips.append('H')\n",
    "        else:\n",
    "            flips.append('T')\n",
    "        return flips"
   ]
  },
  {
   "cell_type": "code",
   "execution_count": 22,
   "id": "92f350f7-a9b9-416f-b4d2-efef9836ce5a",
   "metadata": {},
   "outputs": [
    {
     "data": {
      "text/plain": [
       "['T']"
      ]
     },
     "execution_count": 22,
     "metadata": {},
     "output_type": "execute_result"
    }
   ],
   "source": [
    "flip()"
   ]
  },
  {
   "cell_type": "code",
   "execution_count": 29,
   "id": "8b3aa0f2-dc98-492b-9a89-870bb37ed56d",
   "metadata": {},
   "outputs": [
    {
     "name": "stdout",
     "output_type": "stream",
     "text": [
      "['T', 'T', 'T', 'H', 'T', 'H', 'H', 'T', 'T', 'T']\n"
     ]
    }
   ],
   "source": [
    "flips = flip(10) \n",
    "print(flips)"
   ]
  },
  {
   "cell_type": "code",
   "execution_count": 24,
   "id": "8bac83d8-7a59-4ffd-9795-b7c0f25b78eb",
   "metadata": {},
   "outputs": [],
   "source": [
    "values, counts = np.unique(flips, return_counts = True)"
   ]
  },
  {
   "cell_type": "code",
   "execution_count": 25,
   "id": "5c3ceb0e-2fa5-49fe-bd36-07f59cedac92",
   "metadata": {},
   "outputs": [
    {
     "data": {
      "text/plain": [
       "(array(['T'], dtype='<U1'), array([1], dtype=int64))"
      ]
     },
     "execution_count": 25,
     "metadata": {},
     "output_type": "execute_result"
    }
   ],
   "source": [
    "values, counts"
   ]
  },
  {
   "cell_type": "code",
   "execution_count": 26,
   "id": "db11c978-087c-46fa-a299-c69fa90463f7",
   "metadata": {},
   "outputs": [],
   "source": [
    "# computers are 'deterministic'. You can not do 'random' in computers! \n",
    "# So, you start with some 'seed' then do deterministic things \n",
    "# this is called pseudo-randomness \n",
    "\n",
    "# sometimes you want to suppress this! \n",
    "\n",
    "np.random.seed(0)   # random numbers and seed"
   ]
  },
  {
   "cell_type": "code",
   "execution_count": 27,
   "id": "426e4b99-5755-45e1-85a5-56c6b70043e1",
   "metadata": {},
   "outputs": [
    {
     "data": {
      "text/plain": [
       "0.5488135039273248"
      ]
     },
     "execution_count": 27,
     "metadata": {},
     "output_type": "execute_result"
    }
   ],
   "source": [
    "np.random.uniform(low=0.0, high=1.0)"
   ]
  },
  {
   "cell_type": "code",
   "execution_count": 28,
   "id": "428f0686-a79f-4cf7-9d5f-737db610e046",
   "metadata": {},
   "outputs": [
    {
     "name": "stdout",
     "output_type": "stream",
     "text": [
      "['T', 'T', 'T', 'T', 'T', 'T', 'T', 'H', 'T', 'T']\n",
      "['H' 'T'] [1 9]\n"
     ]
    }
   ],
   "source": [
    "import matplotlib \n",
    "import matplotlib.pyplot as plt\n",
    "%matplotlib inline\n",
    "\n",
    "import numpy as np \n",
    "\n",
    "import seaborn as sns\n",
    "sns.set(color_codes=True)\n",
    "sns.set_style(\"white\")     # See more styling options here: https://seaborn.pydata.org/tutorial/aesthetics.html\n",
    "\n",
    "\n",
    "np.random.seed(1337)   # random numbers and seed \n",
    "\n",
    "\n",
    "# generate a 'flip'\n",
    "def flip(num = 1):\n",
    "    flips = [] \n",
    "    \n",
    "    for i in range(num): \n",
    "        num = np.random.uniform(low=0.0, high=1.0)      \n",
    "        if num > 0.75: \n",
    "            flips.append('H')             # should be doing yield here if you know 'generators'\n",
    "        else: \n",
    "            flips.append('T')\n",
    "    return flips\n",
    "\n",
    "\n",
    "# Flip \n",
    "flips = flip(10) \n",
    "values, counts = np.unique(flips, return_counts=True)\n",
    "\n",
    "# print values/stats\n",
    "# print(flip())\n",
    "print(flips)\n",
    "print(values, counts)"
   ]
  },
  {
   "cell_type": "code",
   "execution_count": 30,
   "id": "2022b3c6-f749-4224-ad25-31d7319ef162",
   "metadata": {},
   "outputs": [],
   "source": [
    "#Probability Of Flips\n",
    "from collections import Counter, defaultdict\n",
    "\n",
    "def get_freqs(flips):\n",
    "    keys = Counter(flips).keys()\n",
    "    vals = Counter(flips).values()\n",
    "    \n",
    "    \n",
    "    return defaultdict(int, dict(zip(keys, vals)))"
   ]
  },
  {
   "cell_type": "code",
   "execution_count": 31,
   "id": "3c038e64-e1e2-4351-90b3-a16315c5e972",
   "metadata": {},
   "outputs": [
    {
     "name": "stdout",
     "output_type": "stream",
     "text": [
      "defaultdict(<class 'int'>, {'T': 7, 'H': 3})\n"
     ]
    }
   ],
   "source": [
    "freqs = get_freqs(flips)\n",
    "print(freqs)"
   ]
  },
  {
   "cell_type": "code",
   "execution_count": 33,
   "id": "6d702b9f-6e8f-40fd-83da-76b02aefc02a",
   "metadata": {},
   "outputs": [
    {
     "name": "stdout",
     "output_type": "stream",
     "text": [
      "0.3\n"
     ]
    }
   ],
   "source": [
    "prob_h = freqs['H'] / len(flips)\n",
    "print(prob_h)"
   ]
  },
  {
   "cell_type": "code",
   "execution_count": 34,
   "id": "488a8357-7d25-4076-aa69-dbec650198e8",
   "metadata": {},
   "outputs": [],
   "source": [
    "maximum_flips = 1000\n",
    "\n",
    "probs = [] \n",
    "for num_flips in range(1, maximum_flips):\n",
    "    flips = flip(num_flips)\n",
    "    freqs = get_freqs(flips)\n",
    "    prob_h = freqs['H'] / len(flips)\n",
    "\n",
    "    probs.append(prob_h)"
   ]
  },
  {
   "cell_type": "code",
   "execution_count": 35,
   "id": "842b81bf-11cd-480c-9030-8e2d810fc9ba",
   "metadata": {},
   "outputs": [
    {
     "name": "stdout",
     "output_type": "stream",
     "text": [
      "defaultdict(<class 'int'>, {'T': 741, 'H': 258})\n"
     ]
    }
   ],
   "source": [
    "print(freqs)\n"
   ]
  },
  {
   "cell_type": "code",
   "execution_count": 36,
   "id": "858e2198-15b5-4a7e-ad11-9366e5eb1a03",
   "metadata": {},
   "outputs": [
    {
     "data": {
      "image/png": "[encoded data removed]",
      "text/plain": [
       "<Figure size 432x288 with 1 Axes>"
      ]
     },
     "metadata": {},
     "output_type": "display_data"
    }
   ],
   "source": [
    "plt.plot(probs)\n",
    "plt.ylabel('Estimated Probability')\n",
    "plt.xlabel('Number of Flips in Experiment');\n",
    "plt.title(\"Calculating Probability over Number of Flips\")\n",
    "sns.despine(offset=10, trim=True);  # move axes away \n",
    "plt.show()"
   ]
  },
  {
   "cell_type": "code",
   "execution_count": 37,
   "id": "afceed6d-ed16-4509-bc44-a49231c0f5ed",
   "metadata": {},
   "outputs": [
    {
     "data": {
      "image/png": "[encoded data removed]",
      "text/plain": [
       "<Figure size 432x288 with 1 Axes>"
      ]
     },
     "metadata": {},
     "output_type": "display_data"
    }
   ],
   "source": [
    "plt.plot(probs[:10])\n",
    "plt.ylabel('Estimated Probability')\n",
    "plt.xlabel('Number of Flips in Experiment');\n",
    "plt.title(\"Calculating Probability over Number of Flips\")\n",
    "sns.despine(offset=10, trim=True);  # move axes away \n",
    "plt.show()\n"
   ]
  },
  {
   "cell_type": "code",
   "execution_count": 38,
   "id": "9f549e59-c810-4df6-b76e-cdf8050d3cc4",
   "metadata": {},
   "outputs": [
    {
     "data": {
      "image/png": "[encoded data removed]",
      "text/plain": [
       "<Figure size 432x288 with 1 Axes>"
      ]
     },
     "metadata": {},
     "output_type": "display_data"
    }
   ],
   "source": [
    "plt.plot(probs[maximum_flips-10:])\n",
    "plt.ylabel('Estimated Probability')\n",
    "plt.xlabel('Number of Flips in Experiment');\n",
    "plt.title(\"Calculating Probability over Number of Flips\")\n",
    "sns.despine(offset=10, trim=True);  # move axes away \n",
    "plt.show()"
   ]
  },
  {
   "cell_type": "code",
   "execution_count": 39,
   "id": "2b0d4f7f-39d7-4a73-bd23-463f0c9d6e58",
   "metadata": {},
   "outputs": [
    {
     "name": "stdout",
     "output_type": "stream",
     "text": [
      "Collecting bokeh\n",
      "  Downloading bokeh-2.4.0-py3-none-any.whl (18.4 MB)\n",
      "Collecting typing-extensions>=3.10.0\n",
      "  Downloading typing_extensions-3.10.0.2-py3-none-any.whl (26 kB)\n",
      "Requirement already satisfied: Jinja2>=2.9 in c:\\users\\ammad amir\\stat-env\\lib\\site-packages (from bokeh) (3.0.1)\n",
      "Requirement already satisfied: numpy>=1.11.3 in c:\\users\\ammad amir\\stat-env\\lib\\site-packages (from bokeh) (1.20.3)\n",
      "Requirement already satisfied: packaging>=16.8 in c:\\users\\ammad amir\\stat-env\\lib\\site-packages (from bokeh) (21.0)\n",
      "Requirement already satisfied: tornado>=5.1 in c:\\users\\ammad amir\\stat-env\\lib\\site-packages (from bokeh) (6.1)\n",
      "Collecting PyYAML>=3.10\n",
      "  Downloading PyYAML-5.4.1-cp39-cp39-win_amd64.whl (213 kB)\n",
      "Requirement already satisfied: pillow>=7.1.0 in c:\\users\\ammad amir\\stat-env\\lib\\site-packages (from bokeh) (8.3.1)\n",
      "Requirement already satisfied: MarkupSafe>=2.0 in c:\\users\\ammad amir\\stat-env\\lib\\site-packages (from Jinja2>=2.9->bokeh) (2.0.1)\n",
      "Requirement already satisfied: pyparsing>=2.0.2 in c:\\users\\ammad amir\\stat-env\\lib\\site-packages (from packaging>=16.8->bokeh) (2.4.7)\n",
      "Installing collected packages: typing-extensions, PyYAML, bokeh\n",
      "Successfully installed PyYAML-5.4.1 bokeh-2.4.0 typing-extensions-3.10.0.2\n"
     ]
    }
   ],
   "source": [
    "!pip install bokeh"
   ]
  },
  {
   "cell_type": "code",
   "execution_count": 40,
   "id": "f7afd5b1-f8bb-4558-a541-574a7285a416",
   "metadata": {},
   "outputs": [
    {
     "data": {
      "text/html": [
       "\n",
       "    <div class=\"bk-root\">\n",
       "        <a href=\"https://bokeh.org\" target=\"_blank\" class=\"bk-logo bk-logo-small bk-logo-notebook\"></a>\n",
       "        <span id=\"1002\">Loading BokehJS ...</span>\n",
       "    </div>"
      ]
     },
     "metadata": {},
     "output_type": "display_data"
    },
    {
     "data": {
      "application/javascript": [
       "\n",
       "(function(root) {\n",
       "  function now() {\n",
       "    return new Date();\n",
       "  }\n",
       "\n",
       "  const force = true;\n",
       "\n",
       "  if (typeof root._bokeh_onload_callbacks === \"undefined\" || force === true) {\n",
       "    root._bokeh_onload_callbacks = [];\n",
       "    root._bokeh_is_loading = undefined;\n",
       "  }\n",
       "\n",
       "  const JS_MIME_TYPE = 'application/javascript';\n",
       "  const HTML_MIME_TYPE = 'text/html';\n",
       "  const EXEC_MIME_TYPE = 'application/vnd.bokehjs_exec.v0+json';\n",
       "  const CLASS_NAME = 'output_bokeh rendered_html';\n",
       "\n",
       "  /**\n",
       "   * Render data to the DOM node\n",
       "   */\n",
       "  function render(props, node) {\n",
       "    const script = document.createElement(\"script\");\n",
       "    node.appendChild(script);\n",
       "  }\n",
       "\n",
       "  /**\n",
       "   * Handle when an output is cleared or removed\n",
       "   */\n",
       "  function handleClearOutput(event, handle) {\n",
       "    const cell = handle.cell;\n",
       "\n",
       "    const id = cell.output_area._bokeh_element_id;\n",
       "    const server_id = cell.output_area._bokeh_server_id;\n",
       "    // Clean up Bokeh references\n",
       "    if (id != null && id in Bokeh.index) {\n",
       "      Bokeh.index[id].model.document.clear();\n",
       "      delete Bokeh.index[id];\n",
       "    }\n",
       "\n",
       "    if (server_id !== undefined) {\n",
       "      // Clean up Bokeh references\n",
       "      const cmd_clean = \"from bokeh.io.state import curstate; print(curstate().uuid_to_server['\" + server_id + \"'].get_sessions()[0].document.roots[0]._id)\";\n",
       "      cell.notebook.kernel.execute(cmd_clean, {\n",
       "        iopub: {\n",
       "          output: function(msg) {\n",
       "            const id = msg.content.text.trim();\n",
       "            if (id in Bokeh.index) {\n",
       "              Bokeh.index[id].model.document.clear();\n",
       "              delete Bokeh.index[id];\n",
       "            }\n",
       "          }\n",
       "        }\n",
       "      });\n",
       "      // Destroy server and session\n",
       "      const cmd_destroy = \"import bokeh.io.notebook as ion; ion.destroy_server('\" + server_id + \"')\";\n",
       "      cell.notebook.kernel.execute(cmd_destroy);\n",
       "    }\n",
       "  }\n",
       "\n",
       "  /**\n",
       "   * Handle when a new output is added\n",
       "   */\n",
       "  function handleAddOutput(event, handle) {\n",
       "    const output_area = handle.output_area;\n",
       "    const output = handle.output;\n",
       "\n",
       "    // limit handleAddOutput to display_data with EXEC_MIME_TYPE content only\n",
       "    if ((output.output_type != \"display_data\") || (!Object.prototype.hasOwnProperty.call(output.data, EXEC_MIME_TYPE))) {\n",
       "      return\n",
       "    }\n",
       "\n",
       "    const toinsert = output_area.element.find(\".\" + CLASS_NAME.split(' ')[0]);\n",
       "\n",
       "    if (output.metadata[EXEC_MIME_TYPE][\"id\"] !== undefined) {\n",
       "      toinsert[toinsert.length - 1].firstChild.textContent = output.data[JS_MIME_TYPE];\n",
       "      // store reference to embed id on output_area\n",
       "      output_area._bokeh_element_id = output.metadata[EXEC_MIME_TYPE][\"id\"];\n",
       "    }\n",
       "    if (output.metadata[EXEC_MIME_TYPE][\"server_id\"] !== undefined) {\n",
       "      const bk_div = document.createElement(\"div\");\n",
       "      bk_div.innerHTML = output.data[HTML_MIME_TYPE];\n",
       "      const script_attrs = bk_div.children[0].attributes;\n",
       "      for (let i = 0; i < script_attrs.length; i++) {\n",
       "        toinsert[toinsert.length - 1].firstChild.setAttribute(script_attrs[i].name, script_attrs[i].value);\n",
       "        toinsert[toinsert.length - 1].firstChild.textContent = bk_div.children[0].textContent\n",
       "      }\n",
       "      // store reference to server id on output_area\n",
       "      output_area._bokeh_server_id = output.metadata[EXEC_MIME_TYPE][\"server_id\"];\n",
       "    }\n",
       "  }\n",
       "\n",
       "  function register_renderer(events, OutputArea) {\n",
       "\n",
       "    function append_mime(data, metadata, element) {\n",
       "      // create a DOM node to render to\n",
       "      const toinsert = this.create_output_subarea(\n",
       "        metadata,\n",
       "        CLASS_NAME,\n",
       "        EXEC_MIME_TYPE\n",
       "      );\n",
       "      this.keyboard_manager.register_events(toinsert);\n",
       "      // Render to node\n",
       "      const props = {data: data, metadata: metadata[EXEC_MIME_TYPE]};\n",
       "      render(props, toinsert[toinsert.length - 1]);\n",
       "      element.append(toinsert);\n",
       "      return toinsert\n",
       "    }\n",
       "\n",
       "    /* Handle when an output is cleared or removed */\n",
       "    events.on('clear_output.CodeCell', handleClearOutput);\n",
       "    events.on('delete.Cell', handleClearOutput);\n",
       "\n",
       "    /* Handle when a new output is added */\n",
       "    events.on('output_added.OutputArea', handleAddOutput);\n",
       "\n",
       "    /**\n",
       "     * Register the mime type and append_mime function with output_area\n",
       "     */\n",
       "    OutputArea.prototype.register_mime_type(EXEC_MIME_TYPE, append_mime, {\n",
       "      /* Is output safe? */\n",
       "      safe: true,\n",
       "      /* Index of renderer in `output_area.display_order` */\n",
       "      index: 0\n",
       "    });\n",
       "  }\n",
       "\n",
       "  // register the mime type if in Jupyter Notebook environment and previously unregistered\n",
       "  if (root.Jupyter !== undefined) {\n",
       "    const events = require('base/js/events');\n",
       "    const OutputArea = require('notebook/js/outputarea').OutputArea;\n",
       "\n",
       "    if (OutputArea.prototype.mime_types().indexOf(EXEC_MIME_TYPE) == -1) {\n",
       "      register_renderer(events, OutputArea);\n",
       "    }\n",
       "  }\n",
       "\n",
       "  \n",
       "  if (typeof (root._bokeh_timeout) === \"undefined\" || force === true) {\n",
       "    root._bokeh_timeout = Date.now() + 5000;\n",
       "    root._bokeh_failed_load = false;\n",
       "  }\n",
       "\n",
       "  const NB_LOAD_WARNING = {'data': {'text/html':\n",
       "     \"<div style='background-color: #fdd'>\\n\"+\n",
       "     \"<p>\\n\"+\n",
       "     \"BokehJS does not appear to have successfully loaded. If loading BokehJS from CDN, this \\n\"+\n",
       "     \"may be due to a slow or bad network connection. Possible fixes:\\n\"+\n",
       "     \"</p>\\n\"+\n",
       "     \"<ul>\\n\"+\n",
       "     \"<li>re-rerun `output_notebook()` to attempt to load from CDN again, or</li>\\n\"+\n",
       "     \"<li>use INLINE resources instead, as so:</li>\\n\"+\n",
       "     \"</ul>\\n\"+\n",
       "     \"<code>\\n\"+\n",
       "     \"from bokeh.resources import INLINE\\n\"+\n",
       "     \"output_notebook(resources=INLINE)\\n\"+\n",
       "     \"</code>\\n\"+\n",
       "     \"</div>\"}};\n",
       "\n",
       "  function display_loaded() {\n",
       "    const el = document.getElementById(\"1002\");\n",
       "    if (el != null) {\n",
       "      el.textContent = \"BokehJS is loading...\";\n",
       "    }\n",
       "    if (root.Bokeh !== undefined) {\n",
       "      if (el != null) {\n",
       "        el.textContent = \"BokehJS \" + root.Bokeh.version + \" successfully loaded.\";\n",
       "      }\n",
       "    } else if (Date.now() < root._bokeh_timeout) {\n",
       "      setTimeout(display_loaded, 100)\n",
       "    }\n",
       "  }\n",
       "\n",
       "\n",
       "  function run_callbacks() {\n",
       "    try {\n",
       "      root._bokeh_onload_callbacks.forEach(function(callback) {\n",
       "        if (callback != null)\n",
       "          callback();\n",
       "      });\n",
       "    } finally {\n",
       "      delete root._bokeh_onload_callbacks\n",
       "    }\n",
       "    console.debug(\"Bokeh: all callbacks have finished\");\n",
       "  }\n",
       "\n",
       "  function load_libs(css_urls, js_urls, callback) {\n",
       "    if (css_urls == null) css_urls = [];\n",
       "    if (js_urls == null) js_urls = [];\n",
       "\n",
       "    root._bokeh_onload_callbacks.push(callback);\n",
       "    if (root._bokeh_is_loading > 0) {\n",
       "      console.debug(\"Bokeh: BokehJS is being loaded, scheduling callback at\", now());\n",
       "      return null;\n",
       "    }\n",
       "    if (js_urls == null || js_urls.length === 0) {\n",
       "      run_callbacks();\n",
       "      return null;\n",
       "    }\n",
       "    console.debug(\"Bokeh: BokehJS not loaded, scheduling load and callback at\", now());\n",
       "    root._bokeh_is_loading = css_urls.length + js_urls.length;\n",
       "\n",
       "    function on_load() {\n",
       "      root._bokeh_is_loading--;\n",
       "      if (root._bokeh_is_loading === 0) {\n",
       "        console.debug(\"Bokeh: all BokehJS libraries/stylesheets loaded\");\n",
       "        run_callbacks()\n",
       "      }\n",
       "    }\n",
       "\n",
       "    function on_error(url) {\n",
       "      console.error(\"failed to load \" + url);\n",
       "    }\n",
       "\n",
       "    for (let i = 0; i < css_urls.length; i++) {\n",
       "      const url = css_urls[i];\n",
       "      const element = document.createElement(\"link\");\n",
       "      element.onload = on_load;\n",
       "      element.onerror = on_error.bind(null, url);\n",
       "      element.rel = \"stylesheet\";\n",
       "      element.type = \"text/css\";\n",
       "      element.href = url;\n",
       "      console.debug(\"Bokeh: injecting link tag for BokehJS stylesheet: \", url);\n",
       "      document.body.appendChild(element);\n",
       "    }\n",
       "\n",
       "    for (let i = 0; i < js_urls.length; i++) {\n",
       "      const url = js_urls[i];\n",
       "      const element = document.createElement('script');\n",
       "      element.onload = on_load;\n",
       "      element.onerror = on_error.bind(null, url);\n",
       "      element.async = false;\n",
       "      element.src = url;\n",
       "      console.debug(\"Bokeh: injecting script tag for BokehJS library: \", url);\n",
       "      document.head.appendChild(element);\n",
       "    }\n",
       "  };\n",
       "\n",
       "  function inject_raw_css(css) {\n",
       "    const element = document.createElement(\"style\");\n",
       "    element.appendChild(document.createTextNode(css));\n",
       "    document.body.appendChild(element);\n",
       "  }\n",
       "\n",
       "  \n",
       "  const js_urls = [\"https://cdn.bokeh.org/bokeh/release/bokeh-2.4.0.min.js\", \"https://cdn.bokeh.org/bokeh/release/bokeh-gl-2.4.0.min.js\", \"https://cdn.bokeh.org/bokeh/release/bokeh-widgets-2.4.0.min.js\", \"https://cdn.bokeh.org/bokeh/release/bokeh-tables-2.4.0.min.js\", \"https://cdn.bokeh.org/bokeh/release/bokeh-mathjax-2.4.0.min.js\"];\n",
       "  const css_urls = [];\n",
       "  \n",
       "\n",
       "  const inline_js = [\n",
       "    function(Bokeh) {\n",
       "      Bokeh.set_log_level(\"info\");\n",
       "    },\n",
       "    function(Bokeh) {\n",
       "    \n",
       "    \n",
       "    }\n",
       "  ];\n",
       "\n",
       "  function run_inline_js() {\n",
       "    \n",
       "    if (root.Bokeh !== undefined || force === true) {\n",
       "      \n",
       "    for (let i = 0; i < inline_js.length; i++) {\n",
       "      inline_js[i].call(root, root.Bokeh);\n",
       "    }\n",
       "    if (force === true) {\n",
       "        display_loaded();\n",
       "      }} else if (Date.now() < root._bokeh_timeout) {\n",
       "      setTimeout(run_inline_js, 100);\n",
       "    } else if (!root._bokeh_failed_load) {\n",
       "      console.log(\"Bokeh: BokehJS failed to load within specified timeout.\");\n",
       "      root._bokeh_failed_load = true;\n",
       "    } else if (force !== true) {\n",
       "      const cell = $(document.getElementById(\"1002\")).parents('.cell').data().cell;\n",
       "      cell.output_area.append_execute_result(NB_LOAD_WARNING)\n",
       "    }\n",
       "\n",
       "  }\n",
       "\n",
       "  if (root._bokeh_is_loading === 0) {\n",
       "    console.debug(\"Bokeh: BokehJS loaded, going straight to plotting\");\n",
       "    run_inline_js();\n",
       "  } else {\n",
       "    load_libs(css_urls, js_urls, function() {\n",
       "      console.debug(\"Bokeh: BokehJS plotting callback run at\", now());\n",
       "      run_inline_js();\n",
       "    });\n",
       "  }\n",
       "}(window));"
      ],
      "application/vnd.bokehjs_load.v0+json": "\n(function(root) {\n  function now() {\n    return new Date();\n  }\n\n  const force = true;\n\n  if (typeof root._bokeh_onload_callbacks === \"undefined\" || force === true) {\n    root._bokeh_onload_callbacks = [];\n    root._bokeh_is_loading = undefined;\n  }\n\n  \n\n  \n  if (typeof (root._bokeh_timeout) === \"undefined\" || force === true) {\n    root._bokeh_timeout = Date.now() + 5000;\n    root._bokeh_failed_load = false;\n  }\n\n  const NB_LOAD_WARNING = {'data': {'text/html':\n     \"<div style='background-color: #fdd'>\\n\"+\n     \"<p>\\n\"+\n     \"BokehJS does not appear to have successfully loaded. If loading BokehJS from CDN, this \\n\"+\n     \"may be due to a slow or bad network connection. Possible fixes:\\n\"+\n     \"</p>\\n\"+\n     \"<ul>\\n\"+\n     \"<li>re-rerun `output_notebook()` to attempt to load from CDN again, or</li>\\n\"+\n     \"<li>use INLINE resources instead, as so:</li>\\n\"+\n     \"</ul>\\n\"+\n     \"<code>\\n\"+\n     \"from bokeh.resources import INLINE\\n\"+\n     \"output_notebook(resources=INLINE)\\n\"+\n     \"</code>\\n\"+\n     \"</div>\"}};\n\n  function display_loaded() {\n    const el = document.getElementById(\"1002\");\n    if (el != null) {\n      el.textContent = \"BokehJS is loading...\";\n    }\n    if (root.Bokeh !== undefined) {\n      if (el != null) {\n        el.textContent = \"BokehJS \" + root.Bokeh.version + \" successfully loaded.\";\n      }\n    } else if (Date.now() < root._bokeh_timeout) {\n      setTimeout(display_loaded, 100)\n    }\n  }\n\n\n  function run_callbacks() {\n    try {\n      root._bokeh_onload_callbacks.forEach(function(callback) {\n        if (callback != null)\n          callback();\n      });\n    } finally {\n      delete root._bokeh_onload_callbacks\n    }\n    console.debug(\"Bokeh: all callbacks have finished\");\n  }\n\n  function load_libs(css_urls, js_urls, callback) {\n    if (css_urls == null) css_urls = [];\n    if (js_urls == null) js_urls = [];\n\n    root._bokeh_onload_callbacks.push(callback);\n    if (root._bokeh_is_loading > 0) {\n      console.debug(\"Bokeh: BokehJS is being loaded, scheduling callback at\", now());\n      return null;\n    }\n    if (js_urls == null || js_urls.length === 0) {\n      run_callbacks();\n      return null;\n    }\n    console.debug(\"Bokeh: BokehJS not loaded, scheduling load and callback at\", now());\n    root._bokeh_is_loading = css_urls.length + js_urls.length;\n\n    function on_load() {\n      root._bokeh_is_loading--;\n      if (root._bokeh_is_loading === 0) {\n        console.debug(\"Bokeh: all BokehJS libraries/stylesheets loaded\");\n        run_callbacks()\n      }\n    }\n\n    function on_error(url) {\n      console.error(\"failed to load \" + url);\n    }\n\n    for (let i = 0; i < css_urls.length; i++) {\n      const url = css_urls[i];\n      const element = document.createElement(\"link\");\n      element.onload = on_load;\n      element.onerror = on_error.bind(null, url);\n      element.rel = \"stylesheet\";\n      element.type = \"text/css\";\n      element.href = url;\n      console.debug(\"Bokeh: injecting link tag for BokehJS stylesheet: \", url);\n      document.body.appendChild(element);\n    }\n\n    for (let i = 0; i < js_urls.length; i++) {\n      const url = js_urls[i];\n      const element = document.createElement('script');\n      element.onload = on_load;\n      element.onerror = on_error.bind(null, url);\n      element.async = false;\n      element.src = url;\n      console.debug(\"Bokeh: injecting script tag for BokehJS library: \", url);\n      document.head.appendChild(element);\n    }\n  };\n\n  function inject_raw_css(css) {\n    const element = document.createElement(\"style\");\n    element.appendChild(document.createTextNode(css));\n    document.body.appendChild(element);\n  }\n\n  \n  const js_urls = [\"https://cdn.bokeh.org/bokeh/release/bokeh-2.4.0.min.js\", \"https://cdn.bokeh.org/bokeh/release/bokeh-gl-2.4.0.min.js\", \"https://cdn.bokeh.org/bokeh/release/bokeh-widgets-2.4.0.min.js\", \"https://cdn.bokeh.org/bokeh/release/bokeh-tables-2.4.0.min.js\", \"https://cdn.bokeh.org/bokeh/release/bokeh-mathjax-2.4.0.min.js\"];\n  const css_urls = [];\n  \n\n  const inline_js = [\n    function(Bokeh) {\n      Bokeh.set_log_level(\"info\");\n    },\n    function(Bokeh) {\n    \n    \n    }\n  ];\n\n  function run_inline_js() {\n    \n    if (root.Bokeh !== undefined || force === true) {\n      \n    for (let i = 0; i < inline_js.length; i++) {\n      inline_js[i].call(root, root.Bokeh);\n    }\n    if (force === true) {\n        display_loaded();\n      }} else if (Date.now() < root._bokeh_timeout) {\n      setTimeout(run_inline_js, 100);\n    } else if (!root._bokeh_failed_load) {\n      console.log(\"Bokeh: BokehJS failed to load within specified timeout.\");\n      root._bokeh_failed_load = true;\n    } else if (force !== true) {\n      const cell = $(document.getElementById(\"1002\")).parents('.cell').data().cell;\n      cell.output_area.append_execute_result(NB_LOAD_WARNING)\n    }\n\n  }\n\n  if (root._bokeh_is_loading === 0) {\n    console.debug(\"Bokeh: BokehJS loaded, going straight to plotting\");\n    run_inline_js();\n  } else {\n    load_libs(css_urls, js_urls, function() {\n      console.debug(\"Bokeh: BokehJS plotting callback run at\", now());\n      run_inline_js();\n    });\n  }\n}(window));"
     },
     "metadata": {},
     "output_type": "display_data"
    }
   ],
   "source": [
    "from bokeh.io import show, output_notebook\n",
    "from bokeh.plotting import figure\n",
    "\n",
    "output_notebook()"
   ]
  },
  {
   "cell_type": "code",
   "execution_count": 41,
   "id": "f2a26caf-ad8f-479e-afcc-3c6b6f219258",
   "metadata": {},
   "outputs": [],
   "source": [
    "p = figure(title=\"Simple Line Plot in Bokeh\", \n",
    "           x_axis_label='Number of Flips in Experiment', \n",
    "           y_axis_label='Estimated Probability', \n",
    "           plot_width=580, plot_height=380)"
   ]
  },
  {
   "cell_type": "code",
   "execution_count": 42,
   "id": "fd90961c-69fa-4375-93cd-8a625011c117",
   "metadata": {},
   "outputs": [
    {
     "data": {
      "text/html": [
       "\n",
       "\n",
       "\n",
       "\n",
       "\n",
       "\n",
       "  <div class=\"bk-root\" id=\"9cc61b00-f514-4c44-b12e-beaf34acaf05\" data-root-id=\"1003\"></div>\n"
      ]
     },
     "metadata": {},
     "output_type": "display_data"
    },
    {
     "data": {
      "application/javascript": [
       "(function(root) {\n",
       "  function embed_document(root) {\n",
       "    \n",
       "  const docs_json = {\"1780016f-cf27-4715-817a-a1043a549d3a\":{\"defs\":[],\"roots\":{\"references\":[{\"attributes\":{\"below\":[{\"id\":\"1014\"}],\"center\":[{\"id\":\"1017\"},{\"id\":\"1021\"}],\"height\":380,\"left\":[{\"id\":\"1018\"}],\"renderers\":[{\"id\":\"1040\"}],\"title\":{\"id\":\"1004\"},\"toolbar\":{\"id\":\"1029\"},\"width\":580,\"x_range\":{\"id\":\"1006\"},\"x_scale\":{\"id\":\"1010\"},\"y_range\":{\"id\":\"1008\"},\"y_scale\":{\"id\":\"1012\"}},\"id\":\"1003\",\"subtype\":\"Figure\",\"type\":\"Plot\"},{\"attributes\":{\"line_alpha\":0.1,\"line_color\":\"#1f77b4\",\"x\":{\"field\":\"x\"},\"y\":{\"field\":\"y\"}},\"id\":\"1038\",\"type\":\"Line\"},{\"attributes\":{},\"id\":\"1022\",\"type\":\"PanTool\"},{\"attributes\":{},\"id\":\"1047\",\"type\":\"BasicTickFormatter\"},{\"attributes\":{},\"id\":\"1008\",\"type\":\"DataRange1d\"},{\"attributes\":{},\"id\":\"1049\",\"type\":\"UnionRenderers\"},{\"attributes\":{\"axis_label\":\"Number of Flips in Experiment\",\"coordinates\":null,\"formatter\":{\"id\":\"1047\"},\"group\":null,\"major_label_policy\":{\"id\":\"1048\"},\"ticker\":{\"id\":\"1015\"}},\"id\":\"1014\",\"type\":\"LinearAxis\"},{\"attributes\":{},\"id\":\"1027\",\"type\":\"HelpTool\"},{\"attributes\":{\"line_color\":\"#1f77b4\",\"x\":{\"field\":\"x\"},\"y\":{\"field\":\"y\"}},\"id\":\"1037\",\"type\":\"Line\"},{\"attributes\":{},\"id\":\"1019\",\"type\":\"BasicTicker\"},{\"attributes\":{\"overlay\":{\"id\":\"1028\"}},\"id\":\"1024\",\"type\":\"BoxZoomTool\"},{\"attributes\":{},\"id\":\"1006\",\"type\":\"DataRange1d\"},{\"attributes\":{},\"id\":\"1050\",\"type\":\"Selection\"},{\"attributes\":{},\"id\":\"1023\",\"type\":\"WheelZoomTool\"},{\"attributes\":{\"data\":{\"x\":[1,2,3,4,5,6,7,8,9,10,11,12,13,14,15,16,17,18,19,20,21,22,23,24,25,26,27,28,29,30,31,32,33,34,35,36,37,38,39,40,41,42,43,44,45,46,47,48,49,50,51,52,53,54,55,56,57,58,59,60,61,62,63,64,65,66,67,68,69,70,71,72,73,74,75,76,77,78,79,80,81,82,83,84,85,86,87,88,89,90,91,92,93,94,95,96,97,98,99,100,101,102,103,104,105,106,107,108,109,110,111,112,113,114,115,116,117,118,119,120,121,122,123,124,125,126,127,128,129,130,131,132,133,134,135,136,137,138,139,140,141,142,143,144,145,146,147,148,149,150,151,152,153,154,155,156,157,158,159,160,161,162,163,164,165,166,167,168,169,170,171,172,173,174,175,176,177,178,179,180,181,182,183,184,185,186,187,188,189,190,191,192,193,194,195,196,197,198,199,200,201,202,203,204,205,206,207,208,209,210,211,212,213,214,215,216,217,218,219,220,221,222,223,224,225,226,227,228,229,230,231,232,233,234,235,236,237,238,239,240,241,242,243,244,245,246,247,248,249,250,251,252,253,254,255,256,257,258,259,260,261,262,263,264,265,266,267,268,269,270,271,272,273,274,275,276,277,278,279,280,281,282,283,284,285,286,287,288,289,290,291,292,293,294,295,296,297,298,299,300,301,302,303,304,305,306,307,308,309,310,311,312,313,314,315,316,317,318,319,320,321,322,323,324,325,326,327,328,329,330,331,332,333,334,335,336,337,338,339,340,341,342,343,344,345,346,347,348,349,350,351,352,353,354,355,356,357,358,359,360,361,362,363,364,365,366,367,368,369,370,371,372,373,374,375,376,377,378,379,380,381,382,383,384,385,386,387,388,389,390,391,392,393,394,395,396,397,398,399,400,401,402,403,404,405,406,407,408,409,410,411,412,413,414,415,416,417,418,419,420,421,422,423,424,425,426,427,428,429,430,431,432,433,434,435,436,437,438,439,440,441,442,443,444,445,446,447,448,449,450,451,452,453,454,455,456,457,458,459,460,461,462,463,464,465,466,467,468,469,470,471,472,473,474,475,476,477,478,479,480,481,482,483,484,485,486,487,488,489,490,491,492,493,494,495,496,497,498,499,500,501,502,503,504,505,506,507,508,509,510,511,512,513,514,515,516,517,518,519,520,521,522,523,524,525,526,527,528,529,530,531,532,533,534,535,536,537,538,539,540,541,542,543,544,545,546,547,548,549,550,551,552,553,554,555,556,557,558,559,560,561,562,563,564,565,566,567,568,569,570,571,572,573,574,575,576,577,578,579,580,581,582,583,584,585,586,587,588,589,590,591,592,593,594,595,596,597,598,599,600,601,602,603,604,605,606,607,608,609,610,611,612,613,614,615,616,617,618,619,620,621,622,623,624,625,626,627,628,629,630,631,632,633,634,635,636,637,638,639,640,641,642,643,644,645,646,647,648,649,650,651,652,653,654,655,656,657,658,659,660,661,662,663,664,665,666,667,668,669,670,671,672,673,674,675,676,677,678,679,680,681,682,683,684,685,686,687,688,689,690,691,692,693,694,695,696,697,698,699,700,701,702,703,704,705,706,707,708,709,710,711,712,713,714,715,716,717,718,719,720,721,722,723,724,725,726,727,728,729,730,731,732,733,734,735,736,737,738,739,740,741,742,743,744,745,746,747,748,749,750,751,752,753,754,755,756,757,758,759,760,761,762,763,764,765,766,767,768,769,770,771,772,773,774,775,776,777,778,779,780,781,782,783,784,785,786,787,788,789,790,791,792,793,794,795,796,797,798,799,800,801,802,803,804,805,806,807,808,809,810,811,812,813,814,815,816,817,818,819,820,821,822,823,824,825,826,827,828,829,830,831,832,833,834,835,836,837,838,839,840,841,842,843,844,845,846,847,848,849,850,851,852,853,854,855,856,857,858,859,860,861,862,863,864,865,866,867,868,869,870,871,872,873,874,875,876,877,878,879,880,881,882,883,884,885,886,887,888,889,890,891,892,893,894,895,896,897,898,899,900,901,902,903,904,905,906,907,908,909,910,911,912,913,914,915,916,917,918,919,920,921,922,923,924,925,926,927,928,929,930,931,932,933,934,935,936,937,938,939,940,941,942,943,944,945,946,947,948,949,950,951,952,953,954,955,956,957,958,959,960,961,962,963,964,965,966,967,968,969,970,971,972,973,974,975,976,977,978,979,980,981,982,983,984,985,986,987,988,989,990,991,992,993,994,995,996,997,998,999],\"y\":[1.0,0.0,0.0,0.25,0.2,0.16666666666666666,0.14285714285714285,0.375,0.3333333333333333,0.2,0.36363636363636365,0.25,0.23076923076923078,0.14285714285714285,0.13333333333333333,0.25,0.11764705882352941,0.16666666666666666,0.3157894736842105,0.2,0.19047619047619047,0.22727272727272727,0.21739130434782608,0.25,0.2,0.19230769230769232,0.4074074074074074,0.32142857142857145,0.3103448275862069,0.23333333333333334,0.22580645161290322,0.125,0.30303030303030304,0.17647058823529413,0.22857142857142856,0.25,0.16216216216216217,0.42105263157894735,0.2564102564102564,0.225,0.21951219512195122,0.2857142857142857,0.2558139534883721,0.2727272727272727,0.3333333333333333,0.1956521739130435,0.2978723404255319,0.22916666666666666,0.1836734693877551,0.32,0.45098039215686275,0.25,0.3018867924528302,0.2222222222222222,0.2545454545454545,0.17857142857142858,0.24561403508771928,0.2413793103448276,0.1864406779661017,0.26666666666666666,0.29508196721311475,0.3225806451612903,0.31746031746031744,0.171875,0.27692307692307694,0.21212121212121213,0.14925373134328357,0.23529411764705882,0.21739130434782608,0.15714285714285714,0.29577464788732394,0.2638888888888889,0.2602739726027397,0.2972972972972973,0.18666666666666668,0.2236842105263158,0.2987012987012987,0.34615384615384615,0.25316455696202533,0.2875,0.1728395061728395,0.3048780487804878,0.2891566265060241,0.3333333333333333,0.2823529411764706,0.2558139534883721,0.2413793103448276,0.20454545454545456,0.3146067415730337,0.2777777777777778,0.31868131868131866,0.20652173913043478,0.3118279569892473,0.26595744680851063,0.29473684210526313,0.34375,0.2268041237113402,0.23469387755102042,0.16161616161616163,0.32,0.2376237623762376,0.22549019607843138,0.22330097087378642,0.18269230769230768,0.26666666666666666,0.3018867924528302,0.2803738317757009,0.3148148148148148,0.24770642201834864,0.24545454545454545,0.16216216216216217,0.21428571428571427,0.3008849557522124,0.24561403508771928,0.22608695652173913,0.25862068965517243,0.26495726495726496,0.2457627118644068,0.20168067226890757,0.23333333333333334,0.21487603305785125,0.27049180327868855,0.25203252032520324,0.24193548387096775,0.216,0.2777777777777778,0.25984251968503935,0.2265625,0.16279069767441862,0.3076923076923077,0.25190839694656486,0.29545454545454547,0.2556390977443609,0.26119402985074625,0.2740740740740741,0.3014705882352941,0.32116788321167883,0.2028985507246377,0.28776978417266186,0.24285714285714285,0.2198581560283688,0.2676056338028169,0.25874125874125875,0.25,0.2689655172413793,0.3287671232876712,0.2585034013605442,0.28378378378378377,0.2751677852348993,0.23333333333333334,0.2185430463576159,0.28289473684210525,0.27450980392156865,0.24025974025974026,0.2967741935483871,0.2692307692307692,0.2611464968152866,0.2088607594936709,0.18867924528301888,0.2375,0.2422360248447205,0.25925925925925924,0.294478527607362,0.23170731707317074,0.23636363636363636,0.28313253012048195,0.32335329341317365,0.27380952380952384,0.27218934911242604,0.27058823529411763,0.29239766081871343,0.25,0.23121387283236994,0.2471264367816092,0.26857142857142857,0.2727272727272727,0.23163841807909605,0.30337078651685395,0.2569832402234637,0.3,0.22099447513812154,0.2692307692307692,0.2786885245901639,0.20652173913043478,0.1783783783783784,0.27956989247311825,0.22994652406417113,0.28191489361702127,0.291005291005291,0.21578947368421053,0.28272251308900526,0.2864583333333333,0.27979274611398963,0.2268041237113402,0.26666666666666666,0.24489795918367346,0.25380710659898476,0.26262626262626265,0.25125628140703515,0.23,0.22388059701492538,0.2376237623762376,0.24630541871921183,0.25,0.23902439024390243,0.24757281553398058,0.2463768115942029,0.25,0.22966507177033493,0.21904761904761905,0.23222748815165878,0.28773584905660377,0.25821596244131456,0.2803738317757009,0.27906976744186046,0.20833333333333334,0.2534562211981567,0.3211009174311927,0.2922374429223744,0.22727272727272727,0.2398190045248869,0.30180180180180183,0.2645739910313901,0.23214285714285715,0.25333333333333335,0.2345132743362832,0.2775330396475771,0.2324561403508772,0.2445414847161572,0.2391304347826087,0.2554112554112554,0.3017241379310345,0.22746781115879827,0.2606837606837607,0.28936170212765955,0.2754237288135593,0.26582278481012656,0.2605042016806723,0.24686192468619247,0.24166666666666667,0.27385892116182575,0.24380165289256198,0.2551440329218107,0.2581967213114754,0.2163265306122449,0.2804878048780488,0.2591093117408907,0.2701612903225806,0.2289156626506024,0.3,0.20717131474103587,0.23809523809523808,0.2490118577075099,0.23228346456692914,0.23529411764705882,0.21875,0.2801556420233463,0.20930232558139536,0.24324324324324326,0.25,0.2567049808429119,0.31297709923664124,0.23954372623574144,0.26515151515151514,0.2490566037735849,0.21804511278195488,0.2696629213483146,0.21641791044776118,0.22304832713754646,0.2740740740740741,0.2988929889298893,0.25,0.2783882783882784,0.24452554744525548,0.23636363636363636,0.2391304347826087,0.20938628158844766,0.24100719424460432,0.25089605734767023,0.2785714285714286,0.2669039145907473,0.24822695035460993,0.24734982332155478,0.2605633802816901,0.26666666666666666,0.2727272727272727,0.22996515679442509,0.2673611111111111,0.2664359861591695,0.25862068965517243,0.2542955326460481,0.2705479452054795,0.24232081911262798,0.2619047619047619,0.24067796610169492,0.30067567567567566,0.2760942760942761,0.21140939597315436,0.24414715719063546,0.23666666666666666,0.2292358803986711,0.23841059602649006,0.2508250825082508,0.24342105263157895,0.2721311475409836,0.22549019607843138,0.247557003257329,0.25,0.3042071197411003,0.25483870967741934,0.24115755627009647,0.2467948717948718,0.2108626198083067,0.2961783439490446,0.24444444444444444,0.24367088607594936,0.23974763406940064,0.2641509433962264,0.2445141065830721,0.26875,0.2554517133956386,0.2267080745341615,0.23839009287925697,0.23765432098765432,0.2553846153846154,0.2791411042944785,0.2415902140672783,0.25,0.2735562310030395,0.2515151515151515,0.2628398791540785,0.2319277108433735,0.1981981981981982,0.2754491017964072,0.22686567164179106,0.25297619047619047,0.2551928783382789,0.26331360946745563,0.26253687315634217,0.24411764705882352,0.2756598240469208,0.195906432748538,0.26239067055393583,0.2558139534883721,0.25507246376811593,0.2745664739884393,0.2824207492795389,0.22701149425287356,0.2492836676217765,0.2571428571428571,0.2564102564102564,0.23863636363636365,0.22946175637393768,0.23163841807909605,0.27323943661971833,0.23876404494382023,0.27450980392156865,0.2122905027932961,0.2395543175487465,0.23055555555555557,0.2659279778393352,0.281767955801105,0.22589531680440772,0.2445054945054945,0.2410958904109589,0.23497267759562843,0.25340599455040874,0.25815217391304346,0.2899728997289973,0.24324324324324326,0.23450134770889489,0.2553763440860215,0.26005361930294907,0.2540106951871658,0.21866666666666668,0.23138297872340424,0.26790450928381965,0.25396825396825395,0.24802110817941952,0.23684210526315788,0.25984251968503935,0.22251308900523561,0.21671018276762402,0.21614583333333334,0.22857142857142856,0.23056994818652848,0.31007751937984496,0.25,0.2570694087403599,0.23846153846153847,0.21227621483375958,0.2576530612244898,0.24173027989821882,0.2893401015228426,0.2379746835443038,0.24242424242424243,0.24433249370277077,0.2989949748743719,0.24060150375939848,0.2625,0.2718204488778055,0.26616915422885573,0.2506203473945409,0.24504950495049505,0.23209876543209876,0.2881773399014778,0.24815724815724816,0.23774509803921567,0.2591687041564792,0.23658536585365852,0.26763990267639903,0.23058252427184467,0.2784503631961259,0.22705314009661837,0.23132530120481928,0.2403846153846154,0.2637889688249401,0.26555023923444976,0.2458233890214797,0.2976190476190476,0.26365795724465557,0.23696682464454977,0.23404255319148937,0.23113207547169812,0.24235294117647058,0.22065727699530516,0.26229508196721313,0.24766355140186916,0.27505827505827507,0.2813953488372093,0.28074245939675174,0.2569444444444444,0.2748267898383372,0.23963133640552994,0.2160919540229885,0.25,0.2562929061784897,0.24885844748858446,0.26651480637813213,0.2409090909090909,0.23356009070294784,0.23076923076923078,0.28442437923250563,0.268018018018018,0.23820224719101124,0.24887892376681614,0.2550335570469799,0.25223214285714285,0.27616926503340755,0.2511111111111111,0.2682926829268293,0.23893805309734514,0.24724061810154527,0.24669603524229075,0.25274725274725274,0.22149122807017543,0.2538293216630197,0.2663755458515284,0.2570806100217865,0.2826086956521739,0.24511930585683298,0.25757575757575757,0.26997840172786175,0.2478448275862069,0.22795698924731184,0.24248927038626608,0.22269807280513917,0.25427350427350426,0.24520255863539445,0.2404255319148936,0.24628450106157113,0.2521186440677966,0.2748414376321353,0.20675105485232068,0.28842105263157897,0.23109243697478993,0.23270440251572327,0.24686192468619247,0.2651356993736952,0.26458333333333334,0.26195426195426197,0.27593360995850624,0.2463768115942029,0.22727272727272727,0.2515463917525773,0.2674897119341564,0.26899383983572894,0.2540983606557377,0.2392638036809816,0.2510204081632653,0.25661914460285135,0.24390243902439024,0.23732251521298176,0.23481781376518218,0.22828282828282828,0.25201612903225806,0.26156941649899396,0.22289156626506024,0.2605210420841683,0.228,0.2694610778443114,0.2549800796812749,0.24254473161033796,0.2619047619047619,0.2495049504950495,0.22727272727272727,0.27218934911242604,0.25196850393700787,0.25147347740667975,0.2411764705882353,0.23874755381604695,0.24609375,0.26705653021442494,0.27626459143968873,0.24854368932038834,0.26356589147286824,0.2514506769825919,0.2471042471042471,0.2581888246628131,0.2423076923076923,0.2514395393474088,0.2681992337164751,0.26195028680688337,0.27099236641221375,0.24761904761904763,0.2300380228136882,0.27514231499051234,0.26515151515151514,0.277882797731569,0.24528301886792453,0.256120527306968,0.24060150375939848,0.2589118198874296,0.250936329588015,0.2504672897196262,0.23880597014925373,0.2681564245810056,0.258364312267658,0.2894248608534323,0.22037037037037038,0.2902033271719039,0.2564575645756458,0.31675874769797424,0.27205882352941174,0.25871559633027524,0.2454212454212454,0.23948811700182815,0.2591240875912409,0.23497267759562843,0.25636363636363635,0.2558983666061706,0.29528985507246375,0.24050632911392406,0.2563176895306859,0.24864864864864866,0.25,0.2459605026929982,0.2777777777777778,0.25402504472271914,0.26785714285714285,0.21746880570409982,0.2526690391459075,0.27175843694493784,0.24113475177304963,0.23893805309734514,0.24911660777385158,0.25044091710758376,0.2746478873239437,0.2478031634446397,0.23508771929824562,0.2539404553415061,0.24125874125874125,0.21465968586387435,0.25609756097560976,0.2678260869565217,0.2378472222222222,0.24436741767764297,0.23529411764705882,0.2556131260794473,0.23448275862068965,0.26161790017211706,0.2663230240549828,0.25900514579759865,0.2363013698630137,0.2358974358974359,0.2235494880546075,0.22657580919931858,0.2465986394557823,0.24787775891341257,0.2627118644067797,0.2470389170896785,0.2702702702702703,0.26475548060708265,0.25925925925925924,0.23697478991596638,0.27684563758389263,0.23953098827470687,0.24749163879598662,0.2387312186978297,0.27,0.2562396006655574,0.22425249169435216,0.2835820895522388,0.24668874172185432,0.228099173553719,0.23432343234323433,0.23064250411861614,0.26644736842105265,0.23809523809523808,0.21967213114754097,0.281505728314239,0.24836601307189543,0.25774877650897227,0.2671009771986971,0.25040650406504067,0.2353896103896104,0.2755267423014587,0.26537216828478966,0.2552504038772213,0.2532258064516129,0.2528180354267311,0.2379421221864952,0.26324237560192615,0.24358974358974358,0.256,0.26038338658146964,0.23285486443381181,0.25796178343949044,0.2575516693163752,0.2619047619047619,0.25039619651347067,0.23734177215189872,0.25434439178515006,0.23974763406940064,0.24251968503937008,0.24528301886792453,0.2668759811616955,0.2711598746081505,0.26917057902973396,0.24375,0.24492979719188768,0.278816199376947,0.24727838258164853,0.2515527950310559,0.24031007751937986,0.26160990712074306,0.26584234930448225,0.25,0.25115562403698,0.2630769230769231,0.23963133640552994,0.25920245398773006,0.25880551301684535,0.25840978593272174,0.24274809160305344,0.2545731707317073,0.2678843226788432,0.25835866261398177,0.24430955993930198,0.27121212121212124,0.22390317700453857,0.23564954682779457,0.23227752639517346,0.24849397590361447,0.24060150375939848,0.26576576576576577,0.22788605697151423,0.23952095808383234,0.23318385650224216,0.24477611940298508,0.2503725782414307,0.22767857142857142,0.26300148588410105,0.2685459940652819,0.24444444444444444,0.23668639053254437,0.23338257016248154,0.24041297935103245,0.2533136966126657,0.2661764705882353,0.23348017621145375,0.23460410557184752,0.22693997071742314,0.2324561403508772,0.23503649635036497,0.24635568513119532,0.2445414847161572,0.2616279069767442,0.28156748911465895,0.22318840579710145,0.2619392185238784,0.2239884393063584,0.2582972582972583,0.24927953890489912,0.2762589928057554,0.23132183908045978,0.2539454806312769,0.2521489971346705,0.2718168812589413,0.24,0.23395149786019973,0.2378917378917379,0.23044096728307253,0.25426136363636365,0.2170212765957447,0.2563739376770538,0.26449787835926447,0.2457627118644068,0.24823695345557123,0.24647887323943662,0.27848101265822783,0.23735955056179775,0.29453015427769985,0.25910364145658266,0.2811188811188811,0.2541899441340782,0.25662482566248257,0.2395543175487465,0.24617524339360222,0.24861111111111112,0.24826629680998613,0.24930747922437674,0.24343015214384509,0.27071823204419887,0.2289655172413793,0.2231404958677686,0.24209078404401652,0.23901098901098902,0.252400548696845,0.22465753424657534,0.2503419972640219,0.2540983606557377,0.2673942701227831,0.279291553133515,0.24625850340136055,0.2296195652173913,0.2198100407055631,0.23170731707317074,0.2476319350473613,0.2635135135135135,0.2631578947368421,0.23450134770889489,0.2611036339165545,0.2567204301075269,0.26308724832214764,0.23458445040214476,0.26238286479250333,0.25668449197860965,0.2630173564753004,0.24266666666666667,0.24633821571238348,0.25398936170212766,0.2536520584329349,0.246684350132626,0.24635761589403973,0.2328042328042328,0.2430647291941876,0.2783641160949868,0.2621870882740448,0.2513157894736842,0.2588699080157687,0.24015748031496062,0.21363040629095675,0.25392670157068065,0.25620915032679736,0.24673629242819844,0.2438070404172099,0.25390625,0.258777633289987,0.2558441558441558,0.23994811932555124,0.2266839378238342,0.2716688227684347,0.2622739018087855,0.24129032258064517,0.23969072164948454,0.2471042471042471,0.2622107969151671,0.2490372272143774,0.24102564102564103,0.25224071702944945,0.27365728900255754,0.24904214559386972,0.24489795918367346,0.2229299363057325,0.24045801526717558,0.2668360864040661,0.25253807106598986,0.24968314321926488,0.25443037974683547,0.23640960809102401,0.23863636363636365,0.2408575031525851,0.25440806045340053,0.2339622641509434,0.2399497487437186,0.24717691342534504,0.23182957393483708,0.24405506883604505,0.275,0.22596754057428214,0.23566084788029926,0.2714819427148194,0.2462686567164179,0.2894409937888199,0.25930521091811415,0.22800495662949194,0.2636138613861386,0.2521631644004944,0.2345679012345679,0.2786683107274969,0.2561576354679803,0.2521525215252153,0.23095823095823095,0.27361963190184047,0.22549019607843138,0.23378212974296206,0.2469437652811736,0.24297924297924298,0.25365853658536586,0.23386114494518878,0.26277372262773724,0.23207776427703525,0.2512135922330097,0.263030303030303,0.24334140435835352,0.25634824667472794,0.2632850241545894,0.23401688781664656,0.25301204819277107,0.26233453670276774,0.23317307692307693,0.24489795918367346,0.2541966426858513,0.2467065868263473,0.25478468899521534,0.22580645161290322,0.23747016706443913,0.23480333730631706,0.2261904761904762,0.2556480380499406,0.25534441805225655,0.2680901542111507,0.2381516587677725,0.22958579881656804,0.2765957446808511,0.21959858323494688,0.25707547169811323,0.22850412249705537,0.24588235294117647,0.21269095182138661,0.23591549295774647,0.2309495896834701,0.22950819672131148,0.247953216374269,0.2558411214953271,0.28004667444574094,0.2738927738927739,0.25029103608847497,0.24883720930232558,0.24041811846689895,0.2552204176334107,0.2653534183082271,0.24768518518518517,0.26473988439306356,0.2390300230946882,0.2433679354094579,0.22926267281105991,0.24510932105868816,0.25287356321839083,0.25487944890929964,0.24426605504587157,0.24054982817869416,0.2391304347826087,0.224,0.23858447488584475,0.24401368301026224,0.24829157175398633,0.23890784982935154,0.24204545454545454,0.23382519863791146,0.2653061224489796,0.25934314835787087,0.251131221719457,0.22937853107344633,0.23137697516930023,0.2491544532130778,0.268018018018018,0.25534308211473566,0.24044943820224718,0.25140291806958476,0.2163677130044843,0.23964165733482642,0.23154362416107382,0.24804469273743016,0.23995535714285715,0.23411371237458195,0.24053452115812918,0.21690767519466073,0.25,0.24750277469478357,0.26940133037694014,0.22702104097452935,0.23008849557522124,0.26850828729281767,0.24834437086092714,0.24035281146637266,0.2599118942731278,0.25962596259625964,0.2098901098901099,0.23600439077936333,0.26206140350877194,0.2782037239868565,0.25054704595185995,0.2262295081967213,0.23253275109170304,0.2791712104689204,0.3017429193899782,0.2578890097932535,0.266304347826087,0.24429967426710097,0.23752711496746204,0.24810400866738894,0.2326839826839827,0.24864864864864866,0.2548596112311015,0.255663430420712,0.25538793103448276,0.2303552206673843,0.24408602150537634,0.23200859291084855,0.26502145922746784,0.24115755627009647,0.25267665952890794,0.23636363636363636,0.26282051282051283,0.26147278548559233,0.2579957356076759,0.2736954206602769,0.22872340425531915,0.23910733262486716,0.23248407643312102,0.2492046659597031,0.22351694915254236,0.24867724867724866,0.24735729386892177,0.2692713833157339,0.26054852320675104,0.2518440463645943,0.2463157894736842,0.2807570977917981,0.2510504201680672,0.24449108079748164,0.25366876310272535,0.24607329842931938,0.2813807531380753,0.24869383490073146,0.2139874739039666,0.264859228362878,0.26666666666666666,0.23204994797086367,0.2390852390852391,0.2502596053997923,0.245850622406639,0.2549222797927461,0.26811594202898553,0.23474663908996898,0.2665289256198347,0.25696594427244585,0.2463917525773196,0.243048403707518,0.2623456790123457,0.23329907502569372,0.24537987679671458,0.2194871794871795,0.26229508196721313,0.24462640736949848,0.261758691206544,0.22676200204290092,0.25816326530612244,0.24872579001019368,0.2525458248472505,0.2624618514750763,0.24288617886178862,0.2598984771573604,0.2515212981744422,0.22695035460992907,0.24493927125506074,0.24064711830131447,0.24545454545454545,0.2341069626639758,0.2590725806451613,0.2638469284994965,0.2283702213279678,0.24020100502512562,0.2580321285140562,0.26078234704112335,0.25551102204408815,0.25825825825825827]},\"selected\":{\"id\":\"1050\"},\"selection_policy\":{\"id\":\"1049\"}},\"id\":\"1036\",\"type\":\"ColumnDataSource\"},{\"attributes\":{},\"id\":\"1015\",\"type\":\"BasicTicker\"},{\"attributes\":{},\"id\":\"1012\",\"type\":\"LinearScale\"},{\"attributes\":{},\"id\":\"1010\",\"type\":\"LinearScale\"},{\"attributes\":{},\"id\":\"1025\",\"type\":\"SaveTool\"},{\"attributes\":{},\"id\":\"1026\",\"type\":\"ResetTool\"},{\"attributes\":{\"source\":{\"id\":\"1036\"}},\"id\":\"1041\",\"type\":\"CDSView\"},{\"attributes\":{\"axis_label\":\"Estimated Probability\",\"coordinates\":null,\"formatter\":{\"id\":\"1044\"},\"group\":null,\"major_label_policy\":{\"id\":\"1045\"},\"ticker\":{\"id\":\"1019\"}},\"id\":\"1018\",\"type\":\"LinearAxis\"},{\"attributes\":{},\"id\":\"1048\",\"type\":\"AllLabels\"},{\"attributes\":{\"bottom_units\":\"screen\",\"coordinates\":null,\"fill_alpha\":0.5,\"fill_color\":\"lightgrey\",\"group\":null,\"left_units\":\"screen\",\"level\":\"overlay\",\"line_alpha\":1.0,\"line_color\":\"black\",\"line_dash\":[4,4],\"line_width\":2,\"right_units\":\"screen\",\"syncable\":false,\"top_units\":\"screen\"},\"id\":\"1028\",\"type\":\"BoxAnnotation\"},{\"attributes\":{\"axis\":{\"id\":\"1014\"},\"coordinates\":null,\"group\":null,\"ticker\":null},\"id\":\"1017\",\"type\":\"Grid\"},{\"attributes\":{\"coordinates\":null,\"group\":null,\"text\":\"Simple Line Plot in Bokeh\"},\"id\":\"1004\",\"type\":\"Title\"},{\"attributes\":{\"line_alpha\":0.2,\"line_color\":\"#1f77b4\",\"x\":{\"field\":\"x\"},\"y\":{\"field\":\"y\"}},\"id\":\"1039\",\"type\":\"Line\"},{\"attributes\":{},\"id\":\"1044\",\"type\":\"BasicTickFormatter\"},{\"attributes\":{\"coordinates\":null,\"data_source\":{\"id\":\"1036\"},\"glyph\":{\"id\":\"1037\"},\"group\":null,\"hover_glyph\":null,\"muted_glyph\":{\"id\":\"1039\"},\"nonselection_glyph\":{\"id\":\"1038\"},\"view\":{\"id\":\"1041\"}},\"id\":\"1040\",\"type\":\"GlyphRenderer\"},{\"attributes\":{\"axis\":{\"id\":\"1018\"},\"coordinates\":null,\"dimension\":1,\"group\":null,\"ticker\":null},\"id\":\"1021\",\"type\":\"Grid\"},{\"attributes\":{\"tools\":[{\"id\":\"1022\"},{\"id\":\"1023\"},{\"id\":\"1024\"},{\"id\":\"1025\"},{\"id\":\"1026\"},{\"id\":\"1027\"}]},\"id\":\"1029\",\"type\":\"Toolbar\"},{\"attributes\":{},\"id\":\"1045\",\"type\":\"AllLabels\"}],\"root_ids\":[\"1003\"]},\"title\":\"Bokeh Application\",\"version\":\"2.4.0\"}};\n",
       "  const render_items = [{\"docid\":\"1780016f-cf27-4715-817a-a1043a549d3a\",\"root_ids\":[\"1003\"],\"roots\":{\"1003\":\"9cc61b00-f514-4c44-b12e-beaf34acaf05\"}}];\n",
       "  root.Bokeh.embed.embed_items_notebook(docs_json, render_items);\n",
       "\n",
       "  }\n",
       "  if (root.Bokeh !== undefined) {\n",
       "    embed_document(root);\n",
       "  } else {\n",
       "    let attempts = 0;\n",
       "    const timer = setInterval(function(root) {\n",
       "      if (root.Bokeh !== undefined) {\n",
       "        clearInterval(timer);\n",
       "        embed_document(root);\n",
       "      } else {\n",
       "        attempts++;\n",
       "        if (attempts > 100) {\n",
       "          clearInterval(timer);\n",
       "          console.log(\"Bokeh: ERROR: Unable to run BokehJS code because BokehJS library is missing\");\n",
       "        }\n",
       "      }\n",
       "    }, 10, root)\n",
       "  }\n",
       "})(window);"
      ],
      "application/vnd.bokehjs_exec.v0+json": ""
     },
     "metadata": {
      "application/vnd.bokehjs_exec.v0+json": {
       "id": "1003"
      }
     },
     "output_type": "display_data"
    }
   ],
   "source": [
    "# Add a line renderer with legend and line thickness\n",
    "x = range(1, maximum_flips)\n",
    "p.line(x=x, y=probs)\n",
    "\n",
    "# Show the results\n",
    "show(p)"
   ]
  },
  {
   "cell_type": "code",
   "execution_count": null,
   "id": "8fc894dd-d438-4fee-9af3-1ee9fefc5afd",
   "metadata": {},
   "outputs": [],
   "source": []
  }
 ],
 "metadata": {
  "kernelspec": {
   "display_name": "Python 3 (ipykernel)",
   "language": "python",
   "name": "python3"
  },
  "language_info": {
   "codemirror_mode": {
    "name": "ipython",
    "version": 3
   },
   "file_extension": ".py",
   "mimetype": "text/x-python",
   "name": "python",
   "nbconvert_exporter": "python",
   "pygments_lexer": "ipython3",
   "version": "3.9.7"
  }
 },
 "nbformat": 4,
 "nbformat_minor": 5
}
